{
 "cells": [
  {
   "cell_type": "code",
   "execution_count": 1,
   "id": "0a9be115",
   "metadata": {},
   "outputs": [],
   "source": [
    "import pandas as pd"
   ]
  },
  {
   "cell_type": "code",
   "execution_count": 12,
   "id": "4584656f",
   "metadata": {},
   "outputs": [],
   "source": [
    "df = pd.read_excel(r\"\\\\main.oecd.org\\ASgenDCD\\DEVELOPMENT_AID\\__PROCESSING\\checklist_r\\2_functions\\test_crstemplate_GG.xlsx\",header = 1)\n",
    "df = df.loc[1:].reset_index(drop=True)"
   ]
  },
  {
   "cell_type": "code",
   "execution_count": null,
   "id": "81ee9e3c",
   "metadata": {},
   "outputs": [
    {
     "data": {
      "application/vnd.microsoft.datawrangler.viewer.v0+json": {
       "columns": [
        {
         "name": "index",
         "rawType": "int64",
         "type": "integer"
        },
        {
         "name": "Reporting year",
         "rawType": "int64",
         "type": "integer"
        },
        {
         "name": "Commitment date (dd-mm-yyyy)",
         "rawType": "object",
         "type": "unknown"
        },
        {
         "name": "Reporting country / organisation",
         "rawType": "int64",
         "type": "integer"
        },
        {
         "name": "Extending agency",
         "rawType": "int64",
         "type": "integer"
        },
        {
         "name": "CRS Identification N°",
         "rawType": "int64",
         "type": "integer"
        },
        {
         "name": "Donor project N°",
         "rawType": "object",
         "type": "string"
        },
        {
         "name": "Nature of submission",
         "rawType": "int64",
         "type": "integer"
        },
        {
         "name": "Recipient code",
         "rawType": "int64",
         "type": "integer"
        },
        {
         "name": "Channel of delivery name",
         "rawType": "object",
         "type": "string"
        },
        {
         "name": "Channel code",
         "rawType": "float64",
         "type": "float"
        },
        {
         "name": "Bi/Multi",
         "rawType": "int64",
         "type": "integer"
        },
        {
         "name": "Type of flow (main DAC 1 category)",
         "rawType": "int64",
         "type": "integer"
        },
        {
         "name": "Type of finance",
         "rawType": "int64",
         "type": "integer"
        },
        {
         "name": "Co-operation modality (replaces the type of aid)",
         "rawType": "object",
         "type": "string"
        },
        {
         "name": "Short description / Project title",
         "rawType": "object",
         "type": "string"
        },
        {
         "name": "Sector / Purpose code and corresponding shares",
         "rawType": "object",
         "type": "unknown"
        },
        {
         "name": "Geographical target area",
         "rawType": "object",
         "type": "unknown"
        },
        {
         "name": "Regional aid to LDCs (codes 1-5)",
         "rawType": "float64",
         "type": "float"
        },
        {
         "name": "Expected starting date ",
         "rawType": "float64",
         "type": "float"
        },
        {
         "name": "Expected completion date",
         "rawType": "float64",
         "type": "float"
        },
        {
         "name": "Description",
         "rawType": "object",
         "type": "string"
        },
        {
         "name": "SDG focus*",
         "rawType": "object",
         "type": "unknown"
        },
        {
         "name": "Keywords*",
         "rawType": "float64",
         "type": "float"
        },
        {
         "name": "Gender equality",
         "rawType": "int64",
         "type": "integer"
        },
        {
         "name": "Aid to environment",
         "rawType": "float64",
         "type": "float"
        },
        {
         "name": "DIG",
         "rawType": "float64",
         "type": "float"
        },
        {
         "name": "RMNCH",
         "rawType": "float64",
         "type": "float"
        },
        {
         "name": "Disaster Risk Reduction",
         "rawType": "float64",
         "type": "float"
        },
        {
         "name": "Nutrition*",
         "rawType": "float64",
         "type": "float"
        },
        {
         "name": "Inclusion and empowerment of persons with disabilities*",
         "rawType": "float64",
         "type": "float"
        },
        {
         "name": "FTC",
         "rawType": "float64",
         "type": "float"
        },
        {
         "name": "PBA",
         "rawType": "float64",
         "type": "float"
        },
        {
         "name": "Investment",
         "rawType": "float64",
         "type": "float"
        },
        {
         "name": "Type of blended finance (codes 1-4) ",
         "rawType": "float64",
         "type": "float"
        },
        {
         "name": "Biodiversity",
         "rawType": "float64",
         "type": "float"
        },
        {
         "name": "Climate change - mitigation",
         "rawType": "float64",
         "type": "float"
        },
        {
         "name": "Climate change - adaptation",
         "rawType": "int64",
         "type": "integer"
        },
        {
         "name": "Desertification",
         "rawType": "int64",
         "type": "integer"
        },
        {
         "name": "Currency",
         "rawType": "int64",
         "type": "integer"
        },
        {
         "name": "Commitments",
         "rawType": "float64",
         "type": "float"
        },
        {
         "name": "Capital Expenditure %*",
         "rawType": "float64",
         "type": "float"
        },
        {
         "name": "Amounts extended",
         "rawType": "int64",
         "type": "integer"
        },
        {
         "name": "ODA grant equivalent",
         "rawType": "float64",
         "type": "float"
        },
        {
         "name": " Amounts received (for loans:principal only)",
         "rawType": "float64",
         "type": "float"
        },
        {
         "name": "Amount untied",
         "rawType": "float64",
         "type": "float"
        },
        {
         "name": "Amount partially untied",
         "rawType": "float64",
         "type": "float"
        },
        {
         "name": "Amount tied",
         "rawType": "float64",
         "type": "float"
        },
        {
         "name": "Amount of IRTC",
         "rawType": "float64",
         "type": "float"
        },
        {
         "name": "If project type, amount of experts-commitments*",
         "rawType": "float64",
         "type": "float"
        },
        {
         "name": "If project type, amount of experts-extended*",
         "rawType": "float64",
         "type": "float"
        },
        {
         "name": "Amount of export credit",
         "rawType": "float64",
         "type": "float"
        },
        {
         "name": "Leveraging mechanism and role/position",
         "rawType": "float64",
         "type": "float"
        },
        {
         "name": "Amounts mobilised from the private sector",
         "rawType": "float64",
         "type": "float"
        },
        {
         "name": "Origin of the funds mobilised",
         "rawType": "float64",
         "type": "float"
        },
        {
         "name": "Type or repayment \nor type of fee payment",
         "rawType": "float64",
         "type": "float"
        },
        {
         "name": "Number of repayment \nor fee payment per annum",
         "rawType": "float64",
         "type": "float"
        },
        {
         "name": "Interest rate /\n Fee rate /\nExpected return per annum",
         "rawType": "float64",
         "type": "float"
        },
        {
         "name": "Second interest rate",
         "rawType": "float64",
         "type": "float"
        },
        {
         "name": "First repayment date /\nExposure reduction starting date \n(dd-mm-yyyy)",
         "rawType": "float64",
         "type": "float"
        },
        {
         "name": "Final repayment date / \nGuarantee maturity date / \nExpected maturity \n(dd-mm-yyyy)",
         "rawType": "float64",
         "type": "float"
        },
        {
         "name": "Interest received / \nGuarantee fee received / \nDividends received per annum",
         "rawType": "float64",
         "type": "float"
        },
        {
         "name": "Principal disbursed and still outstanding / \nEquity disbursed and still held",
         "rawType": "float64",
         "type": "float"
        },
        {
         "name": "Arrears of principal (included in the item 62)",
         "rawType": "float64",
         "type": "float"
        },
        {
         "name": "Arrears of interest / \nArrears of guarantee fee",
         "rawType": "float64",
         "type": "float"
        },
        {
         "name": "Guaranteed amount",
         "rawType": "float64",
         "type": "float"
        },
        {
         "name": "Average use of portfolio guarantee %",
         "rawType": "float64",
         "type": "float"
        },
        {
         "name": "PSI flag",
         "rawType": "float64",
         "type": "float"
        },
        {
         "name": "Additionality type",
         "rawType": "float64",
         "type": "float"
        },
        {
         "name": "Additionality assessment",
         "rawType": "float64",
         "type": "float"
        },
        {
         "name": "Additionality – development objective",
         "rawType": "float64",
         "type": "float"
        },
        {
         "name": "Income Group ",
         "rawType": "float64",
         "type": "float"
        },
        {
         "name": "Discount Rate",
         "rawType": "float64",
         "type": "float"
        },
        {
         "name": "Grant Element",
         "rawType": "float64",
         "type": "float"
        }
       ],
       "ref": "0e1c0193-a993-4af1-bfc5-375d6f1bc827",
       "rows": [
        [
         "0",
         "2024",
         "2022-01-15 00:00:00",
         "1",
         "1",
         "20220000001",
         "abcd",
         "1",
         "998",
         "African Development Bank",
         "12004.0",
         "2",
         "10",
         "420",
         "A02",
         "Rural Healthcare Enhancement Initiative",
         "51010:20.12|45866:30|99810:40",
         "Amazon Rainforest, Brazil",
         null,
         null,
         null,
         "This project aims to improve healthcare services in rural areas by constructing new health facilities, providing medical equipment, and training local healthcare workers. The initiative will focus on maternal and child health, infectious disease control, and health education to enhance overall community health and well-being.",
         "5;1.2",
         null,
         "1",
         "1.0",
         "1.0",
         "1.0",
         "1.0",
         "1.0",
         "1.0",
         null,
         null,
         null,
         null,
         "1.0",
         "1.0",
         "1",
         "1",
         "3",
         null,
         null,
         "10000",
         null,
         null,
         null,
         null,
         null,
         null,
         null,
         null,
         null,
         null,
         null,
         null,
         null,
         null,
         null,
         null,
         null,
         null,
         null,
         null,
         null,
         null,
         null,
         null,
         null,
         null,
         null,
         null,
         null,
         null,
         null
        ],
        [
         "1",
         "2024",
         "2024-01-15 00:00:00",
         "1",
         "1",
         "20220000002",
         "abcd",
         "1",
         "249",
         "International Committee of the Red Cross ",
         null,
         "8",
         "10",
         "110",
         "A02",
         "Programme d'agriculture durable et de sécurité alimentaire",
         "99810",
         "The Mekong Delta region in Vietnam, which is an intricate network of rivers, swamps, and islands, and is one of the most densely populated areas in the country, renowned for its rich biodiversity and extensive agricultural activities",
         "3.0",
         null,
         null,
         "This project seeks to promote sustainable agricultural practices and improve food security in developing regions. Activities include training farmers in modern farming techniques, providing access to quality seeds and fertilizers, and establishing irrigation systems. The program also aims to create local food processing facilities to add value to agricultural products and boost local economies.",
         "1.2|1.4",
         null,
         "2",
         "2.0",
         "2.0",
         "2.0",
         "2.0",
         "2.0",
         "2.0",
         null,
         null,
         null,
         null,
         "2.0",
         "2.0",
         "2",
         "2",
         "75",
         null,
         null,
         "10000",
         null,
         null,
         null,
         null,
         null,
         null,
         null,
         null,
         null,
         null,
         null,
         null,
         null,
         null,
         null,
         null,
         null,
         null,
         null,
         null,
         null,
         null,
         null,
         null,
         null,
         null,
         null,
         null,
         null,
         null,
         null
        ],
        [
         "2",
         "2024",
         "2021-12-31 00:00:00",
         "1",
         "1",
         "20220000003",
         "abcd",
         "3",
         "998",
         "Institute for Advanced Research and Policy Studies on Global Economic Development and Environmental Sustainability at the University of International Studies",
         "51010.0",
         "4",
         "10",
         "110",
         "A02",
         "Education for All: Inclusive Learning Environments",
         "42559;12264",
         "Himalayan Mountain Range, Nepal",
         null,
         null,
         null,
         "The objective of this project is to ensure access to quality education for all children, including marginalized and disadvantaged groups. It involves building and renovating schools, supplying educational materials, and implementing teacher training programs. Special emphasis will be placed on inclusive education practices to accommodate children with disabilities and girls.",
         "5.a;5.b",
         null,
         "0",
         "0.0",
         "0.0",
         "0.0",
         "0.0",
         "0.0",
         "0.0",
         null,
         null,
         null,
         null,
         "0.0",
         "0.0",
         "0",
         "2",
         "302",
         null,
         null,
         "10000",
         null,
         null,
         null,
         null,
         null,
         null,
         null,
         null,
         null,
         null,
         null,
         null,
         null,
         null,
         null,
         null,
         null,
         null,
         null,
         null,
         null,
         null,
         null,
         null,
         null,
         null,
         null,
         null,
         null,
         null,
         null
        ],
        [
         "3",
         "2024",
         "2024-01-01 00:00:00",
         "1",
         "1",
         "20220000004",
         "abcd",
         "1",
         "998",
         "Republic of Ireland",
         "12003.0",
         "8",
         "10",
         "420",
         "A02",
         "Clean Water and Sanitation for Communities",
         "41000",
         "Great Rift Valley, Kenya",
         null,
         null,
         null,
         "This project aims to provide clean and safe drinking water and improve sanitation facilities in underserved communities. It includes the construction of wells, water purification systems, and latrines. Additionally, the project will conduct hygiene education campaigns to promote healthy practices and reduce waterborne diseases.",
         "5",
         null,
         "0",
         null,
         null,
         null,
         null,
         null,
         null,
         null,
         null,
         null,
         null,
         null,
         null,
         "0",
         "2",
         "820",
         null,
         null,
         "10000",
         null,
         null,
         null,
         null,
         null,
         null,
         null,
         null,
         null,
         null,
         null,
         null,
         null,
         null,
         null,
         null,
         null,
         null,
         null,
         null,
         null,
         null,
         null,
         null,
         null,
         null,
         null,
         null,
         null,
         null,
         null
        ],
        [
         "4",
         "2024",
         "2024-01-01 00:00:00",
         "7000",
         "1",
         "20220000005",
         "abcd",
         "8",
         "998",
         "Private sector partnership with local small and medium enterprises to promote sustainable economic growth and job creation",
         "21045.0",
         "3",
         "10",
         "110",
         "B01",
         "Renewable Energy for Sustainable Development",
         "23231",
         null,
         null,
         null,
         null,
         "This project focuses on increasing access to renewable energy sources in rural and remote areas. It involves the installation of solar panels, wind turbines, and small hydroelectric systems to provide reliable and clean energy. The project also includes training programs for local technicians to maintain and operate these systems, fostering long-term sustainability and economic development.",
         null,
         null,
         "1",
         "1.0",
         "1.0",
         "1.0",
         "1.0",
         "1.0",
         "1.0",
         null,
         null,
         null,
         null,
         "1.0",
         "1.0",
         "1",
         "1",
         "62",
         null,
         null,
         "10000",
         null,
         null,
         null,
         null,
         null,
         null,
         null,
         null,
         null,
         null,
         null,
         null,
         null,
         null,
         null,
         null,
         null,
         null,
         null,
         null,
         null,
         null,
         null,
         null,
         null,
         null,
         null,
         null,
         null,
         null,
         null
        ]
       ],
       "shape": {
        "columns": 73,
        "rows": 5
       }
      },
      "text/html": [
       "<div>\n",
       "<style scoped>\n",
       "    .dataframe tbody tr th:only-of-type {\n",
       "        vertical-align: middle;\n",
       "    }\n",
       "\n",
       "    .dataframe tbody tr th {\n",
       "        vertical-align: top;\n",
       "    }\n",
       "\n",
       "    .dataframe thead th {\n",
       "        text-align: right;\n",
       "    }\n",
       "</style>\n",
       "<table border=\"1\" class=\"dataframe\">\n",
       "  <thead>\n",
       "    <tr style=\"text-align: right;\">\n",
       "      <th></th>\n",
       "      <th>Reporting year</th>\n",
       "      <th>Commitment date (dd-mm-yyyy)</th>\n",
       "      <th>Reporting country / organisation</th>\n",
       "      <th>Extending agency</th>\n",
       "      <th>CRS Identification N°</th>\n",
       "      <th>Donor project N°</th>\n",
       "      <th>Nature of submission</th>\n",
       "      <th>Recipient code</th>\n",
       "      <th>Channel of delivery name</th>\n",
       "      <th>Channel code</th>\n",
       "      <th>...</th>\n",
       "      <th>Arrears of interest / \\nArrears of guarantee fee</th>\n",
       "      <th>Guaranteed amount</th>\n",
       "      <th>Average use of portfolio guarantee %</th>\n",
       "      <th>PSI flag</th>\n",
       "      <th>Additionality type</th>\n",
       "      <th>Additionality assessment</th>\n",
       "      <th>Additionality – development objective</th>\n",
       "      <th>Income Group</th>\n",
       "      <th>Discount Rate</th>\n",
       "      <th>Grant Element</th>\n",
       "    </tr>\n",
       "  </thead>\n",
       "  <tbody>\n",
       "    <tr>\n",
       "      <th>0</th>\n",
       "      <td>2024</td>\n",
       "      <td>2022-01-15 00:00:00</td>\n",
       "      <td>1</td>\n",
       "      <td>1</td>\n",
       "      <td>20220000001</td>\n",
       "      <td>abcd</td>\n",
       "      <td>1</td>\n",
       "      <td>998</td>\n",
       "      <td>African Development Bank</td>\n",
       "      <td>12004.0</td>\n",
       "      <td>...</td>\n",
       "      <td>NaN</td>\n",
       "      <td>NaN</td>\n",
       "      <td>NaN</td>\n",
       "      <td>NaN</td>\n",
       "      <td>NaN</td>\n",
       "      <td>NaN</td>\n",
       "      <td>NaN</td>\n",
       "      <td>NaN</td>\n",
       "      <td>NaN</td>\n",
       "      <td>NaN</td>\n",
       "    </tr>\n",
       "    <tr>\n",
       "      <th>1</th>\n",
       "      <td>2024</td>\n",
       "      <td>2024-01-15 00:00:00</td>\n",
       "      <td>1</td>\n",
       "      <td>1</td>\n",
       "      <td>20220000002</td>\n",
       "      <td>abcd</td>\n",
       "      <td>1</td>\n",
       "      <td>249</td>\n",
       "      <td>International Committee of the Red Cross</td>\n",
       "      <td>NaN</td>\n",
       "      <td>...</td>\n",
       "      <td>NaN</td>\n",
       "      <td>NaN</td>\n",
       "      <td>NaN</td>\n",
       "      <td>NaN</td>\n",
       "      <td>NaN</td>\n",
       "      <td>NaN</td>\n",
       "      <td>NaN</td>\n",
       "      <td>NaN</td>\n",
       "      <td>NaN</td>\n",
       "      <td>NaN</td>\n",
       "    </tr>\n",
       "    <tr>\n",
       "      <th>2</th>\n",
       "      <td>2024</td>\n",
       "      <td>2021-12-31 00:00:00</td>\n",
       "      <td>1</td>\n",
       "      <td>1</td>\n",
       "      <td>20220000003</td>\n",
       "      <td>abcd</td>\n",
       "      <td>3</td>\n",
       "      <td>998</td>\n",
       "      <td>Institute for Advanced Research and Policy Stu...</td>\n",
       "      <td>51010.0</td>\n",
       "      <td>...</td>\n",
       "      <td>NaN</td>\n",
       "      <td>NaN</td>\n",
       "      <td>NaN</td>\n",
       "      <td>NaN</td>\n",
       "      <td>NaN</td>\n",
       "      <td>NaN</td>\n",
       "      <td>NaN</td>\n",
       "      <td>NaN</td>\n",
       "      <td>NaN</td>\n",
       "      <td>NaN</td>\n",
       "    </tr>\n",
       "    <tr>\n",
       "      <th>3</th>\n",
       "      <td>2024</td>\n",
       "      <td>2024-01-01 00:00:00</td>\n",
       "      <td>1</td>\n",
       "      <td>1</td>\n",
       "      <td>20220000004</td>\n",
       "      <td>abcd</td>\n",
       "      <td>1</td>\n",
       "      <td>998</td>\n",
       "      <td>Republic of Ireland</td>\n",
       "      <td>12003.0</td>\n",
       "      <td>...</td>\n",
       "      <td>NaN</td>\n",
       "      <td>NaN</td>\n",
       "      <td>NaN</td>\n",
       "      <td>NaN</td>\n",
       "      <td>NaN</td>\n",
       "      <td>NaN</td>\n",
       "      <td>NaN</td>\n",
       "      <td>NaN</td>\n",
       "      <td>NaN</td>\n",
       "      <td>NaN</td>\n",
       "    </tr>\n",
       "    <tr>\n",
       "      <th>4</th>\n",
       "      <td>2024</td>\n",
       "      <td>2024-01-01 00:00:00</td>\n",
       "      <td>7000</td>\n",
       "      <td>1</td>\n",
       "      <td>20220000005</td>\n",
       "      <td>abcd</td>\n",
       "      <td>8</td>\n",
       "      <td>998</td>\n",
       "      <td>Private sector partnership with local small an...</td>\n",
       "      <td>21045.0</td>\n",
       "      <td>...</td>\n",
       "      <td>NaN</td>\n",
       "      <td>NaN</td>\n",
       "      <td>NaN</td>\n",
       "      <td>NaN</td>\n",
       "      <td>NaN</td>\n",
       "      <td>NaN</td>\n",
       "      <td>NaN</td>\n",
       "      <td>NaN</td>\n",
       "      <td>NaN</td>\n",
       "      <td>NaN</td>\n",
       "    </tr>\n",
       "  </tbody>\n",
       "</table>\n",
       "<p>5 rows × 73 columns</p>\n",
       "</div>"
      ],
      "text/plain": [
       "   Reporting year Commitment date (dd-mm-yyyy)  \\\n",
       "0            2024          2022-01-15 00:00:00   \n",
       "1            2024          2024-01-15 00:00:00   \n",
       "2            2024          2021-12-31 00:00:00   \n",
       "3            2024          2024-01-01 00:00:00   \n",
       "4            2024          2024-01-01 00:00:00   \n",
       "\n",
       "   Reporting country / organisation  Extending agency  CRS Identification N°  \\\n",
       "0                                 1                 1            20220000001   \n",
       "1                                 1                 1            20220000002   \n",
       "2                                 1                 1            20220000003   \n",
       "3                                 1                 1            20220000004   \n",
       "4                              7000                 1            20220000005   \n",
       "\n",
       "  Donor project N°  Nature of submission  Recipient code  \\\n",
       "0             abcd                     1             998   \n",
       "1             abcd                     1             249   \n",
       "2             abcd                     3             998   \n",
       "3             abcd                     1             998   \n",
       "4             abcd                     8             998   \n",
       "\n",
       "                            Channel of delivery name  Channel code  ...  \\\n",
       "0                           African Development Bank       12004.0  ...   \n",
       "1          International Committee of the Red Cross            NaN  ...   \n",
       "2  Institute for Advanced Research and Policy Stu...       51010.0  ...   \n",
       "3                                Republic of Ireland       12003.0  ...   \n",
       "4  Private sector partnership with local small an...       21045.0  ...   \n",
       "\n",
       "   Arrears of interest / \\nArrears of guarantee fee  Guaranteed amount  \\\n",
       "0                                               NaN                NaN   \n",
       "1                                               NaN                NaN   \n",
       "2                                               NaN                NaN   \n",
       "3                                               NaN                NaN   \n",
       "4                                               NaN                NaN   \n",
       "\n",
       "   Average use of portfolio guarantee % PSI flag Additionality type  \\\n",
       "0                                   NaN      NaN                NaN   \n",
       "1                                   NaN      NaN                NaN   \n",
       "2                                   NaN      NaN                NaN   \n",
       "3                                   NaN      NaN                NaN   \n",
       "4                                   NaN      NaN                NaN   \n",
       "\n",
       "  Additionality assessment Additionality – development objective  \\\n",
       "0                      NaN                                   NaN   \n",
       "1                      NaN                                   NaN   \n",
       "2                      NaN                                   NaN   \n",
       "3                      NaN                                   NaN   \n",
       "4                      NaN                                   NaN   \n",
       "\n",
       "   Income Group   Discount Rate  Grant Element  \n",
       "0            NaN            NaN            NaN  \n",
       "1            NaN            NaN            NaN  \n",
       "2            NaN            NaN            NaN  \n",
       "3            NaN            NaN            NaN  \n",
       "4            NaN            NaN            NaN  \n",
       "\n",
       "[5 rows x 73 columns]"
      ]
     },
     "execution_count": 4,
     "metadata": {},
     "output_type": "execute_result"
    }
   ],
   "source": [
    "df.head()  # Display the first few rows of the DataFrame\n"
   ]
  },
  {
   "cell_type": "code",
   "execution_count": 45,
   "id": "583b9158",
   "metadata": {},
   "outputs": [
    {
     "data": {
      "text/plain": [
       "'Co-operation modality (replaces the type of aid) is missing for this type of flowCo-operation modality (replaces the type of aid) is missing for this type of flowCo-operation modality (replaces the type of aid) is missing for this type of flow; Co-operation modality (replaces the type of aid) is missing for this type of flow'"
      ]
     },
     "execution_count": 45,
     "metadata": {},
     "output_type": "execute_result"
    }
   ],
   "source": [
    "df.loc[3, \"errormessage\"]"
   ]
  },
  {
   "cell_type": "code",
   "execution_count": 44,
   "id": "474803a3",
   "metadata": {},
   "outputs": [],
   "source": [
    "df.errormmessage = \"\"  # Initialize the error message column\n",
    "for i, row in df.iterrows():\n",
    "    if (row[\"Type of flow (main DAC 1 category)\"]== 10 or row[\"Type of flow (main DAC 1 category)\"]== 21 or  row[\"Type of flow (main DAC 1 category)\"]== 60 ) & (pd.isna(row[\"Co-operation modality (replaces the type of aid)\"])):\n",
    "\n",
    "          df.loc[i, \"errormessage\"] = df.loc[i, \"errormessage\"]+\"; \"+\"Co-operation modality (replaces the type of aid) is missing for this type of flow\""
   ]
  },
  {
   "cell_type": "code",
   "execution_count": 30,
   "id": "69ea03a8",
   "metadata": {},
   "outputs": [
    {
     "data": {
      "text/plain": [
       "3"
      ]
     },
     "execution_count": 30,
     "metadata": {},
     "output_type": "execute_result"
    }
   ],
   "source": [
    "df[\"Co-operation modality (replaces the type of aid)\"].isna().sum()  # Count of missing values in the specified column"
   ]
  },
  {
   "cell_type": "code",
   "execution_count": 41,
   "id": "76e0a2f7",
   "metadata": {},
   "outputs": [
    {
     "data": {
      "application/vnd.microsoft.datawrangler.viewer.v0+json": {
       "columns": [
        {
         "name": "index",
         "rawType": "int64",
         "type": "integer"
        },
        {
         "name": "Type of flow (main DAC 1 category)",
         "rawType": "int64",
         "type": "integer"
        },
        {
         "name": "Co-operation modality (replaces the type of aid)",
         "rawType": "object",
         "type": "unknown"
        },
        {
         "name": "errormessage",
         "rawType": "object",
         "type": "string"
        }
       ],
       "ref": "7439df47-c51f-429e-b08e-4ec4b5374602",
       "rows": [
        [
         "0",
         "10",
         null,
         "Co-operation modality (replaces the type of aid) is missing for this type of flowCo-operation modality (replaces the type of aid) is missing for this type of flow"
        ],
        [
         "1",
         "10",
         "A02",
         ""
        ],
        [
         "2",
         "10",
         "A02",
         ""
        ],
        [
         "3",
         "21",
         null,
         "Co-operation modality (replaces the type of aid) is missing for this type of flowCo-operation modality (replaces the type of aid) is missing for this type of flow"
        ],
        [
         "4",
         "10",
         "B01",
         ""
        ]
       ],
       "shape": {
        "columns": 3,
        "rows": 5
       }
      },
      "text/html": [
       "<div>\n",
       "<style scoped>\n",
       "    .dataframe tbody tr th:only-of-type {\n",
       "        vertical-align: middle;\n",
       "    }\n",
       "\n",
       "    .dataframe tbody tr th {\n",
       "        vertical-align: top;\n",
       "    }\n",
       "\n",
       "    .dataframe thead th {\n",
       "        text-align: right;\n",
       "    }\n",
       "</style>\n",
       "<table border=\"1\" class=\"dataframe\">\n",
       "  <thead>\n",
       "    <tr style=\"text-align: right;\">\n",
       "      <th></th>\n",
       "      <th>Type of flow (main DAC 1 category)</th>\n",
       "      <th>Co-operation modality (replaces the type of aid)</th>\n",
       "      <th>errormessage</th>\n",
       "    </tr>\n",
       "  </thead>\n",
       "  <tbody>\n",
       "    <tr>\n",
       "      <th>0</th>\n",
       "      <td>10</td>\n",
       "      <td>NaN</td>\n",
       "      <td>Co-operation modality (replaces the type of ai...</td>\n",
       "    </tr>\n",
       "    <tr>\n",
       "      <th>1</th>\n",
       "      <td>10</td>\n",
       "      <td>A02</td>\n",
       "      <td></td>\n",
       "    </tr>\n",
       "    <tr>\n",
       "      <th>2</th>\n",
       "      <td>10</td>\n",
       "      <td>A02</td>\n",
       "      <td></td>\n",
       "    </tr>\n",
       "    <tr>\n",
       "      <th>3</th>\n",
       "      <td>21</td>\n",
       "      <td>NaN</td>\n",
       "      <td>Co-operation modality (replaces the type of ai...</td>\n",
       "    </tr>\n",
       "    <tr>\n",
       "      <th>4</th>\n",
       "      <td>10</td>\n",
       "      <td>B01</td>\n",
       "      <td></td>\n",
       "    </tr>\n",
       "  </tbody>\n",
       "</table>\n",
       "</div>"
      ],
      "text/plain": [
       "   Type of flow (main DAC 1 category)  \\\n",
       "0                                  10   \n",
       "1                                  10   \n",
       "2                                  10   \n",
       "3                                  21   \n",
       "4                                  10   \n",
       "\n",
       "  Co-operation modality (replaces the type of aid)  \\\n",
       "0                                              NaN   \n",
       "1                                              A02   \n",
       "2                                              A02   \n",
       "3                                              NaN   \n",
       "4                                              B01   \n",
       "\n",
       "                                        errormessage  \n",
       "0  Co-operation modality (replaces the type of ai...  \n",
       "1                                                     \n",
       "2                                                     \n",
       "3  Co-operation modality (replaces the type of ai...  \n",
       "4                                                     "
      ]
     },
     "execution_count": 41,
     "metadata": {},
     "output_type": "execute_result"
    }
   ],
   "source": [
    "df[[\"Type of flow (main DAC 1 category)\", \"Co-operation modality (replaces the type of aid)\", \"errormessage\"]].head()"
   ]
  },
  {
   "cell_type": "code",
   "execution_count": null,
   "id": "50ec6186",
   "metadata": {},
   "outputs": [],
   "source": []
  }
 ],
 "metadata": {
  "kernelspec": {
   "display_name": "sdg_classifier",
   "language": "python",
   "name": "python3"
  },
  "language_info": {
   "codemirror_mode": {
    "name": "ipython",
    "version": 3
   },
   "file_extension": ".py",
   "mimetype": "text/x-python",
   "name": "python",
   "nbconvert_exporter": "python",
   "pygments_lexer": "ipython3",
   "version": "3.10.14"
  }
 },
 "nbformat": 4,
 "nbformat_minor": 5
}
